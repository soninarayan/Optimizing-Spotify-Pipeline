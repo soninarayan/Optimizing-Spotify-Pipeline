{
 "cells": [
  {
   "cell_type": "markdown",
   "id": "f4ca8b19",
   "metadata": {},
   "source": [
    "## Import Libraries"
   ]
  },
  {
   "cell_type": "code",
   "execution_count": null,
   "id": "14a7cf1d",
   "metadata": {},
   "outputs": [],
   "source": [
    "#!pip install spotipy"
   ]
  },
  {
   "cell_type": "code",
   "execution_count": null,
   "id": "36c80ced",
   "metadata": {},
   "outputs": [],
   "source": [
    "import spotipy\n",
    "from spotipy.oauth2 import SpotifyClientCredentials\n",
    "import pandas as pd"
   ]
  },
  {
   "cell_type": "code",
   "execution_count": null,
   "id": "24e06a56",
   "metadata": {},
   "outputs": [],
   "source": [
    "#add client_id and client_secret key\n",
    "client_credentials_manager = SpotifyClientCredentials(client_id=\"XX\", client_secret=\"XX\")"
   ]
  },
  {
   "cell_type": "code",
   "execution_count": null,
   "id": "2d4ba23f",
   "metadata": {},
   "outputs": [],
   "source": [
    "sp = spotipy.Spotify(client_credentials_manager = client_credentials_manager)"
   ]
  },
  {
   "cell_type": "code",
   "execution_count": null,
   "id": "51bd1ded",
   "metadata": {},
   "outputs": [],
   "source": [
    "playlist_link = \"https://open.spotify.com/playlist/XX\""
   ]
  },
  {
   "cell_type": "code",
   "execution_count": null,
   "id": "0f122fea",
   "metadata": {},
   "outputs": [],
   "source": [
    "playlist_URI = playlist_link.split(\"/\")[-1].split('?')[0]"
   ]
  },
  {
   "cell_type": "code",
   "execution_count": null,
   "id": "9929e020",
   "metadata": {},
   "outputs": [],
   "source": [
    "#Get full details of the tracks of a playlist:  playlist_tracks(playlist_id, fields=None, limit=100, offset=0, market=None, additional_types=('track', ))\n",
    "data = sp.playlist_tracks(playlist_URI) "
   ]
  },
  {
   "cell_type": "code",
   "execution_count": null,
   "id": "99537210",
   "metadata": {},
   "outputs": [],
   "source": [
    "print(type(data))"
   ]
  },
  {
   "cell_type": "code",
   "execution_count": null,
   "id": "05db4d0b",
   "metadata": {},
   "outputs": [],
   "source": [
    "#No. of song in the list\n",
    "print(len(data['items']))"
   ]
  },
  {
   "cell_type": "code",
   "execution_count": null,
   "id": "ef389262",
   "metadata": {},
   "outputs": [],
   "source": [
    "#Each element in the list contain a dictionary\n",
    "print(data['items'][0].keys())"
   ]
  },
  {
   "cell_type": "code",
   "execution_count": null,
   "id": "67767ece",
   "metadata": {},
   "outputs": [],
   "source": [
    "print(data['items'][0]['track'].keys())"
   ]
  },
  {
   "cell_type": "code",
   "execution_count": null,
   "id": "0aa08539",
   "metadata": {},
   "outputs": [],
   "source": [
    "print(data['items'][0]['added_by'].keys())"
   ]
  },
  {
   "cell_type": "markdown",
   "id": "5ca725ee",
   "metadata": {},
   "source": [
    "## Artist Table"
   ]
  },
  {
   "cell_type": "code",
   "execution_count": null,
   "id": "3133b10b",
   "metadata": {},
   "outputs": [],
   "source": [
    "print(data['items'][0]['track']['artists'])"
   ]
  },
  {
   "cell_type": "code",
   "execution_count": null,
   "id": "6472f2b8",
   "metadata": {},
   "outputs": [],
   "source": [
    "print(data['items'][0]['track']['artists'][0]['name'])\n",
    "print(data['items'][0]['track']['artists'][0]['id'])\n",
    "print(data['items'][0]['track']['artists'][0]['external_urls']['spotify'])"
   ]
  },
  {
   "cell_type": "code",
   "execution_count": null,
   "id": "6f02d80e",
   "metadata": {},
   "outputs": [],
   "source": [
    "artist_list = []\n",
    "for row in data['items']: #data['items'] is a list\n",
    "    for key, value in row.items(): #Each element in the list is a dict\n",
    "        if key == \"track\":         #Track is one of the keys\n",
    "            for artist in value['artists']:\n",
    "                artist_dict = {'artist_id':artist['id'], 'artist_name':artist['name'], 'spotify_url': artist['external_urls']['spotify']}\n",
    "                artist_list.append(artist_dict)"
   ]
  },
  {
   "cell_type": "code",
   "execution_count": null,
   "id": "002c749b",
   "metadata": {},
   "outputs": [],
   "source": [
    "artist_df = pd.DataFrame(artist_list)\n",
    "artist_df = artist_df.drop_duplicates(subset=['artist_id'])\n",
    "display(artist_df.head())\n",
    "display(artist_df.info())\n",
    "display(artist_df.dtypes)"
   ]
  },
  {
   "cell_type": "markdown",
   "id": "a16f6a3e",
   "metadata": {},
   "source": [
    "## Album Table"
   ]
  },
  {
   "cell_type": "code",
   "execution_count": null,
   "id": "8b91743a",
   "metadata": {},
   "outputs": [],
   "source": [
    "data['items'][0]['track']['album'].keys()"
   ]
  },
  {
   "cell_type": "code",
   "execution_count": null,
   "id": "d7f4f762",
   "metadata": {},
   "outputs": [],
   "source": [
    "print(data['items'][0]['track']['album']['name'])\n",
    "print(data['items'][0]['track']['album']['release_date_precision'])\n",
    "print(data['items'][0]['track']['album']['release_date'])\n",
    "print(data['items'][0]['track']['album']['total_tracks'])\n",
    "print(data['items'][1]['track']['album']['external_urls']['spotify'])"
   ]
  },
  {
   "cell_type": "code",
   "execution_count": null,
   "id": "0279091e",
   "metadata": {},
   "outputs": [],
   "source": [
    "album_list = []\n",
    "for row in data['items']:\n",
    "    album_id = row['track']['album']['id']\n",
    "    album_name = row['track']['album']['name']\n",
    "    album_release_date = row['track']['album']['release_date']\n",
    "    album_total_tracks = row['track']['album']['total_tracks']\n",
    "    album_url = row['track']['album']['external_urls']['spotify']\n",
    "    album_element = {'album_id':album_id,'name':album_name,'release_date':album_release_date,\n",
    "                        'total_tracks':album_total_tracks,'url':album_url}\n",
    "    album_list.append(album_element)"
   ]
  },
  {
   "cell_type": "code",
   "execution_count": null,
   "id": "3d64be7d",
   "metadata": {},
   "outputs": [],
   "source": [
    "album_df = pd.DataFrame(album_list)\n",
    "\n",
    "#Convert release_date object to date object\n",
    "album_df['release_date'] = pd.to_datetime(album_df['release_date'])\n",
    "album_df = album_df.drop_duplicates(subset=['album_id'])"
   ]
  },
  {
   "cell_type": "code",
   "execution_count": null,
   "id": "d8a586a6",
   "metadata": {},
   "outputs": [],
   "source": [
    "display(album_df.head())\n",
    "display(album_df.info())\n",
    "display(album_df.dtypes)"
   ]
  },
  {
   "cell_type": "markdown",
   "id": "c6fedd14",
   "metadata": {},
   "source": [
    "## Song Table"
   ]
  },
  {
   "cell_type": "code",
   "execution_count": null,
   "id": "ef2ab338",
   "metadata": {},
   "outputs": [],
   "source": [
    "data['items'][0]['track'].keys()"
   ]
  },
  {
   "cell_type": "code",
   "execution_count": null,
   "id": "0b7e5d0a",
   "metadata": {},
   "outputs": [],
   "source": [
    "song_list = []\n",
    "for row in data['items']:\n",
    "    song_id = row['track']['id']\n",
    "    song_name = row['track']['name']\n",
    "    song_duration_mins = round((row['track']['duration_ms']/(60*1000)),2)\n",
    "    song_url = row['track']['external_urls']['spotify']\n",
    "    song_popularity = row['track']['popularity']\n",
    "    song_added = row['added_at']\n",
    "    album_id = row['track']['album']['id']\n",
    "    artist_id = row['track']['album']['artists'][0]['id']\n",
    "    \n",
    "    song_element = {'song_id':song_id,'song_name':song_name,'duration_mins':song_duration_mins,'url':song_url,\n",
    "                    'popularity':song_popularity,'song_added':song_added,'album_id':album_id,\n",
    "                    'artist_id':artist_id\n",
    "                   }\n",
    "    song_list.append(song_element)"
   ]
  },
  {
   "cell_type": "code",
   "execution_count": null,
   "id": "0bd5abd9",
   "metadata": {},
   "outputs": [],
   "source": [
    "song_df = pd.DataFrame(song_list)\n",
    "song_df['song_added'] = pd.to_datetime(song_df['song_added'])"
   ]
  },
  {
   "cell_type": "code",
   "execution_count": null,
   "id": "d1e19ac2",
   "metadata": {},
   "outputs": [],
   "source": [
    "display(song_df.head())\n",
    "display(song_df.info())\n",
    "display(song_df.dtypes)"
   ]
  },
  {
   "cell_type": "code",
   "execution_count": null,
   "id": "5d4d12d0",
   "metadata": {},
   "outputs": [],
   "source": [
    "song_df"
   ]
  }
 ],
 "metadata": {
  "kernelspec": {
   "display_name": "Python 3 (ipykernel)",
   "language": "python",
   "name": "python3"
  },
  "language_info": {
   "codemirror_mode": {
    "name": "ipython",
    "version": 3
   },
   "file_extension": ".py",
   "mimetype": "text/x-python",
   "name": "python",
   "nbconvert_exporter": "python",
   "pygments_lexer": "ipython3",
   "version": "3.11.4"
  }
 },
 "nbformat": 4,
 "nbformat_minor": 5
}
